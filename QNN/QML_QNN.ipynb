{
 "cells": [
  {
   "cell_type": "markdown",
   "id": "f4ab204c",
   "metadata": {},
   "source": [
    "# Quantum Neural Networks\n",
    "\n",
    "EstimatorQNN(*, circuit, estimator=None, observables=None, input_params=None, weight_params=None, gradient=None, input_gradients=False)\n",
    "\n",
    "The EstimatorQNN is a neural network that takes in a parametrized quantum circuit with designated parameters for input data and/or weights, an optional observable(s) and outputs their expectation value(s). Quite often, a combined quantum circuit is used. Such a circuit is built from two circuits: a feature map, it provides input parameters for the network, and an ansatz (weight parameters).\n",
    "\n",
    "SamplerQNN(*, circuit, sampler=None, input_params=None, weight_params=None, sparse=False, interpret=None, output_shape=None, gradient=None, input_gradients=False)\n",
    "\n",
    "The SamplerQNN is a neural network that takes in a parametrized quantum circuit with designated parameters for input data and/or weights and translates the quasi-probabilities estimated by the Sampler primitive into predicted classes. Quite often, a combined quantum circuit is used. Such a circuit is built from two circuits: a feature map, it provides input parameters for the network, and an ansatz (weight parameters)."
   ]
  },
  {
   "cell_type": "markdown",
   "id": "6d11fc4f",
   "metadata": {},
   "source": [
    "# 1-  The EstimatorQNN Example"
   ]
  },
  {
   "cell_type": "markdown",
   "id": "d5f52e9b",
   "metadata": {},
   "source": [
    "## qnn.forward is a method of the EstimatorQNN class that applies the quantum circuit to the input data and weight parameters, and performs the estimation task. The specific implementation of the forward method will depend on the design of the EstimatorQNN class and the task it is intended to perform. The forward method will be the main method of the EstimatorQNN class that performs the estimation task. It usually takes input data and weight parameters as arguments, and it returns the output of the estimation, which can be a scalar or a vector depending on the task.\n",
    "\n",
    "## Note-the input data and weights are arbitary here"
   ]
  },
  {
   "cell_type": "code",
   "execution_count": 1,
   "id": "477d4db7",
   "metadata": {},
   "outputs": [
    {
     "data": {
      "text/plain": [
       "array([[0.10695899]])"
      ]
     },
     "execution_count": 1,
     "metadata": {},
     "output_type": "execute_result"
    }
   ],
   "source": [
    "from qiskit import QuantumCircuit\n",
    "from qiskit.circuit.library import ZZFeatureMap, RealAmplitudes\n",
    "\n",
    "from qiskit_machine_learning.neural_networks import EstimatorQNN\n",
    "\n",
    "num_qubits = 2\n",
    "feature_map = ZZFeatureMap(feature_dimension=num_qubits)\n",
    "ansatz = RealAmplitudes(num_qubits=num_qubits, reps=1)\n",
    "\n",
    "qc = QuantumCircuit(num_qubits)\n",
    "qc.compose(feature_map, inplace=True)\n",
    "qc.compose(ansatz, inplace=True)\n",
    "\n",
    "qnn = EstimatorQNN(\n",
    "    circuit=qc,\n",
    "    input_params=feature_map.parameters,\n",
    "    weight_params=ansatz.parameters\n",
    ")\n",
    "\n",
    "qnn.forward(input_data=[1, 2], weights=[1, 2, 3, 4])  \n"
   ]
  },
  {
   "cell_type": "markdown",
   "id": "d9a1d6a7",
   "metadata": {},
   "source": [
    "# 2-The SamplerQNN Example\n"
   ]
  },
  {
   "cell_type": "markdown",
   "id": "8ba166a5",
   "metadata": {},
   "source": [
    "## The parity function is a Python function defined in the code, that takes an integer x as input and returns the parity of x. The parity of a number is a value that indicates whether the number of 1's in the binary representation of that number is even or odd.\n",
    "\n",
    "## The function first converts the input x to its binary representation using the format() method, with the :b format specifier. The :b is used to format an integer as a binary string. Then it uses count(\"1\") method to count the number of occurrences of the character '1' in the binary string and applies the modulo operation with 2 on the count of 1's. The result is 0 if the count of 1's is even and 1 if it is odd.\n",
    "\n",
    "## The first element, 0.55347949, is the probability of class 0 and the second element, 0.44652051, is the probability of class 1."
   ]
  },
  {
   "cell_type": "code",
   "execution_count": 2,
   "id": "d999f336",
   "metadata": {},
   "outputs": [
    {
     "data": {
      "text/plain": [
       "array([[0.55347949, 0.44652051]])"
      ]
     },
     "execution_count": 2,
     "metadata": {},
     "output_type": "execute_result"
    }
   ],
   "source": [
    "from qiskit import QuantumCircuit\n",
    "from qiskit.circuit.library import ZZFeatureMap, RealAmplitudes\n",
    "\n",
    "from qiskit_machine_learning.neural_networks import SamplerQNN\n",
    "\n",
    "num_qubits = 2\n",
    "feature_map = ZZFeatureMap(feature_dimension=num_qubits)\n",
    "ansatz = RealAmplitudes(num_qubits=num_qubits, reps=1)\n",
    "\n",
    "qc = QuantumCircuit(num_qubits)\n",
    "qc.compose(feature_map, inplace=True)\n",
    "qc.compose(ansatz, inplace=True)\n",
    "\n",
    "\n",
    "def parity(x):\n",
    "    return \"{:b}\".format(x).count(\"1\") % 2\n",
    "\n",
    "\n",
    "qnn = SamplerQNN(\n",
    "    circuit=qc,\n",
    "    input_params=feature_map.parameters,\n",
    "    weight_params=ansatz.parameters,\n",
    "    interpret=parity,\n",
    "    output_shape=2\n",
    ")\n",
    "\n",
    "qnn.forward(input_data=[1, 2], weights=[1, 2, 3, 4])"
   ]
  },
  {
   "cell_type": "markdown",
   "id": "7d82d27c",
   "metadata": {},
   "source": [
    "The forward method applies the quantum circuit to the input data and weight parameters, performs the estimation or sampling task and returns the output, usually a probability distribution.\n",
    "\n",
    "The backward method, on the other hand, is used to compute gradients of the parameters of the quantum circuit. Gradients are values that indicate how much the output of the network changes when the parameters are changed.The gradients are used to update the parameters during training using optimization algorithms like QAOA, VQE, etc.\n",
    "\n",
    "In summary, the forward method computes the output of the network given the input data and parameters, while the backward method computes the gradients of the parameters given the input data and parameters."
   ]
  },
  {
   "cell_type": "markdown",
   "id": "1bc3c9f0",
   "metadata": {},
   "source": [
    "##  Estimator QNN"
   ]
  },
  {
   "cell_type": "code",
   "execution_count": 3,
   "id": "6e2b09e8",
   "metadata": {},
   "outputs": [],
   "source": [
    "from qiskit import QuantumCircuit\n",
    "from qiskit.circuit import Parameter\n",
    "from qiskit.circuit.library import RealAmplitudes\n",
    "from qiskit.utils import algorithm_globals\n",
    "\n",
    "algorithm_globals.random_seed = 42"
   ]
  },
  {
   "cell_type": "code",
   "execution_count": 4,
   "id": "421b85fd",
   "metadata": {},
   "outputs": [
    {
     "data": {
      "image/png": "[encoded data removed]",
      "text/plain": [
       "<Figure size 436.286x117.056 with 1 Axes>"
      ]
     },
     "execution_count": 4,
     "metadata": {},
     "output_type": "execute_result"
    }
   ],
   "source": [
    "# construct parametrized circuit\n",
    "params1 = [Parameter(\"input1\"), Parameter(\"weight1\"),Parameter(\"weight2\")]\n",
    "qc1 = QuantumCircuit(1)\n",
    "qc1.h(0)\n",
    "qc1.ry(params1[0], 0)\n",
    "qc1.rx(params1[1], 0)\n",
    "qc1.rz(params1[2], 0)\n",
    "qc1.draw(\"mpl\")"
   ]
  },
  {
   "cell_type": "markdown",
   "id": "6c9c63be",
   "metadata": {},
   "source": [
    "## The SparsePauliOp class in Qiskit provides two methods for creating an observable object: from_sparse_list() and from_list().\n",
    "\n",
    "### The from_sparse_list() method is used to create an observable object from a sparse list of Pauli terms and coefficients. A sparse list is a list of tuples where each tuple contains a Pauli term represented as a tuple of Pauli matrices and a coefficient. The Pauli term is represented as a tuple of Pauli matrices, one for each qubit, where each element can be either \"I\", \"X\", \"Y\", or \"Z\". The coefficient is a complex number. This method is useful when the number of terms in the observable is very large, but only a few of them are non-zero.\n",
    "\n",
    "### The from_list() method, on the other hand, is used to create an observable object from a list of Pauli terms and coefficients. A list of tuples where each tuple contains a Pauli term represented as a string of Pauli matrices and a coefficient. The Pauli term is represented as a string of Pauli matrices, one for each qubit, where each character can be either \"I\", \"X\", \"Y\", or \"Z\". The coefficient is a complex number.\n",
    "\n",
    "### In summary, the from_sparse_list() method is used when the number of terms in the observable is very large but only a few of them are non-zero, while the from_list() method is used when all the terms in the observable are defined explicitly."
   ]
  },
  {
   "cell_type": "code",
   "execution_count": 5,
   "id": "adecb8af",
   "metadata": {},
   "outputs": [],
   "source": [
    "from qiskit.quantum_info import SparsePauliOp\n",
    "\n",
    "observable1 = SparsePauliOp.from_list([(\"Y\" * qc1.num_qubits, 1)])"
   ]
  },
  {
   "cell_type": "code",
   "execution_count": 6,
   "id": "2df967c8",
   "metadata": {},
   "outputs": [],
   "source": [
    "qnn1 = EstimatorQNN(circuit=qc1, observables=observable1, input_params=[params1[0]], weight_params=[params1[1],params1[2]])\n"
   ]
  },
  {
   "cell_type": "code",
   "execution_count": 7,
   "id": "607dd8d1",
   "metadata": {},
   "outputs": [],
   "source": [
    "# define (random) input and weights\n",
    "input1 = algorithm_globals.random.random(qnn1.num_inputs)\n",
    "weights1 = algorithm_globals.random.random(qnn1.num_weights)\n"
   ]
  },
  {
   "cell_type": "code",
   "execution_count": 8,
   "id": "baaedcce",
   "metadata": {},
   "outputs": [
    {
     "data": {
      "text/plain": [
       "array([[0.73541268]])"
      ]
     },
     "execution_count": 8,
     "metadata": {},
     "output_type": "execute_result"
    }
   ],
   "source": [
    "# QNN forward pass\n",
    "qnn1.forward(input1, weights1)\n"
   ]
  },
  {
   "cell_type": "code",
   "execution_count": 9,
   "id": "3a5a6511",
   "metadata": {},
   "outputs": [
    {
     "data": {
      "text/plain": [
       "array([[0.73541268],\n",
       "       [0.73541268]])"
      ]
     },
     "execution_count": 9,
     "metadata": {},
     "output_type": "execute_result"
    }
   ],
   "source": [
    "# QNN batched forward pass\n",
    "qnn1.forward([input1, input1], weights1)\n",
    "\n"
   ]
  },
  {
   "cell_type": "code",
   "execution_count": 10,
   "id": "d2c6b0d8",
   "metadata": {},
   "outputs": [
    {
     "data": {
      "text/plain": [
       "(None, array([[[0.41348714, 0.24253636]]]))"
      ]
     },
     "execution_count": 10,
     "metadata": {},
     "output_type": "execute_result"
    }
   ],
   "source": [
    "# QNN backward pass\n",
    "qnn1.backward(input1, weights1)\n"
   ]
  },
  {
   "cell_type": "code",
   "execution_count": 11,
   "id": "72db1185",
   "metadata": {},
   "outputs": [
    {
     "data": {
      "text/plain": [
       "(None,\n",
       " array([[[0.41348714, 0.24253636]],\n",
       " \n",
       "        [[0.41348714, 0.24253636]]]))"
      ]
     },
     "execution_count": 11,
     "metadata": {},
     "output_type": "execute_result"
    }
   ],
   "source": [
    "# QNN batched backward pass\n",
    "qnn1.backward([input1, input1], weights1)"
   ]
  },
  {
   "cell_type": "code",
   "execution_count": 12,
   "id": "b18ca020",
   "metadata": {},
   "outputs": [],
   "source": [
    "observable2 = SparsePauliOp.from_list([(\"Z\" * qc1.num_qubits, 1)])\n",
    "\n",
    "qnn2 = EstimatorQNN(\n",
    "    circuit=qc1,\n",
    "    observables=[observable1, observable2],\n",
    "    input_params=[params1[0]],\n",
    "    weight_params=[params1[1],params1[2]],\n",
    ")\n"
   ]
  },
  {
   "cell_type": "code",
   "execution_count": 13,
   "id": "0f8691cb",
   "metadata": {},
   "outputs": [
    {
     "data": {
      "text/plain": [
       "array([[ 0.73541268, -0.63272767]])"
      ]
     },
     "execution_count": 13,
     "metadata": {},
     "output_type": "execute_result"
    }
   ],
   "source": [
    "# QNN forward pass\n",
    "qnn2.forward(input1, weights1)\n",
    "\n"
   ]
  },
  {
   "cell_type": "code",
   "execution_count": 14,
   "id": "97a5a52c",
   "metadata": {},
   "outputs": [
    {
     "data": {
      "text/plain": [
       "(None,\n",
       " array([[[ 4.13487140e-01,  2.42536364e-01],\n",
       "         [ 2.97009399e-01, -5.55111512e-17]]]))"
      ]
     },
     "execution_count": 14,
     "metadata": {},
     "output_type": "execute_result"
    }
   ],
   "source": [
    "# QNN backward pass\n",
    "qnn2.backward(input1, weights1)"
   ]
  },
  {
   "cell_type": "markdown",
   "id": "cb03a414",
   "metadata": {},
   "source": [
    "## Sampler QNN"
   ]
  },
  {
   "cell_type": "code",
   "execution_count": 15,
   "id": "290e6107",
   "metadata": {},
   "outputs": [
    {
     "data": {
      "image/png": "[encoded data removed]",
      "text/plain": [
       "<Figure size 370.906x200.667 with 1 Axes>"
      ]
     },
     "execution_count": 15,
     "metadata": {},
     "output_type": "execute_result"
    }
   ],
   "source": [
    "from qiskit.primitives import Sampler\n",
    "from qiskit_machine_learning.neural_networks import SamplerQNN\n",
    "qc = RealAmplitudes(2, entanglement=\"linear\", reps=1)\n",
    "qc.draw(output=\"mpl\")"
   ]
  },
  {
   "cell_type": "code",
   "execution_count": 16,
   "id": "3f067c96",
   "metadata": {},
   "outputs": [],
   "source": [
    "# specify sampler-based QNN\n",
    "qnn4 = SamplerQNN(circuit=qc, input_params=[], weight_params=qc.parameters)\n"
   ]
  },
  {
   "cell_type": "code",
   "execution_count": 17,
   "id": "969772d1",
   "metadata": {},
   "outputs": [],
   "source": [
    "# define (random) input and weights\n",
    "input4 = algorithm_globals.random.random(qnn4.num_inputs)\n",
    "weights4 = algorithm_globals.random.random(qnn4.num_weights)\n"
   ]
  },
  {
   "cell_type": "code",
   "execution_count": 18,
   "id": "5e3fb103",
   "metadata": {},
   "outputs": [
    {
     "data": {
      "text/plain": [
       "array([[0.65262465, 0.09121934, 0.03725174, 0.21890427]])"
      ]
     },
     "execution_count": 18,
     "metadata": {},
     "output_type": "execute_result"
    }
   ],
   "source": [
    "# QNN forward pass\n",
    "qnn4.forward(input4, weights4)\n"
   ]
  },
  {
   "cell_type": "code",
   "execution_count": 19,
   "id": "021b576b",
   "metadata": {},
   "outputs": [
    {
     "data": {
      "text/plain": [
       "(None,\n",
       " array([[[-0.10537766, -0.40039716, -0.24399178, -0.15592115],\n",
       "         [-0.12608552,  0.03095581,  0.24399178, -0.14130925],\n",
       "         [-0.10449308,  0.13568725, -0.09030263,  0.15592115],\n",
       "         [ 0.33595626,  0.23375409,  0.09030263,  0.14130925]]]))"
      ]
     },
     "execution_count": 19,
     "metadata": {},
     "output_type": "execute_result"
    }
   ],
   "source": [
    "\n",
    "# QNN backward pass, returns a tuple of matrices, None for the gradients with respect to input data.\n",
    "qnn4.backward(input4, weights4)"
   ]
  }
 ],
 "metadata": {
  "kernelspec": {
   "display_name": "Python 3 (ipykernel)",
   "language": "python",
   "name": "python3"
  },
  "language_info": {
   "codemirror_mode": {
    "name": "ipython",
    "version": 3
   },
   "file_extension": ".py",
   "mimetype": "text/x-python",
   "name": "python",
   "nbconvert_exporter": "python",
   "pygments_lexer": "ipython3",
   "version": "3.9.13"
  }
 },
 "nbformat": 4,
 "nbformat_minor": 5
}
