{
 "cells": [
  {
   "cell_type": "code",
   "execution_count": 1,
   "id": "669250c5",
   "metadata": {},
   "outputs": [
    {
     "data": {
      "text/plain": [
       "tensor(0., requires_grad=True)"
      ]
     },
     "execution_count": 1,
     "metadata": {},
     "output_type": "execute_result"
    }
   ],
   "source": [
    "import pennylane as qml\n",
    "\n",
    "dev = qml.device('default.qubit', wires=2)\n",
    "\n",
    "@qml.qnode(dev)\n",
    "def circuit(f=None):\n",
    "    qml.AmplitudeEmbedding(features=f, wires=range(2))\n",
    "    return qml.expval(qml.PauliZ(0))\n",
    "\n",
    "circuit(f=[1/2, 1/2, 1/2, 1/2])"
   ]
  },
  {
   "cell_type": "code",
   "execution_count": 2,
   "id": "59049232",
   "metadata": {},
   "outputs": [
    {
     "data": {
      "text/plain": [
       "tensor([0.5+0.j, 0.5+0.j, 0.5+0.j, 0.5+0.j], requires_grad=True)"
      ]
     },
     "execution_count": 2,
     "metadata": {},
     "output_type": "execute_result"
    }
   ],
   "source": [
    "dev.state"
   ]
  },
  {
   "cell_type": "markdown",
   "id": "4458dfa0",
   "metadata": {},
   "source": [
    "# Normalization\n",
    "\n",
    "## The template will raise an error if the feature input is not normalized. One can set normalize=True to automatically normalize it:"
   ]
  },
  {
   "cell_type": "code",
   "execution_count": 23,
   "id": "8519db42",
   "metadata": {},
   "outputs": [
    {
     "data": {
      "text/plain": [
       "tensor(-0.33333333, requires_grad=True)"
      ]
     },
     "execution_count": 23,
     "metadata": {},
     "output_type": "execute_result"
    }
   ],
   "source": [
    "import pennylane as qml\n",
    "\n",
    "dev = qml.device('default.qubit', wires=2)\n",
    "\n",
    "@qml.qnode(dev)\n",
    "def circuit(f=None):\n",
    "    qml.AmplitudeEmbedding(features=f, wires=range(2),normalize=True)\n",
    "    return qml.expval(qml.PauliZ(1))\n",
    "\n",
    "circuit(f=[10,20,30,40])"
   ]
  },
  {
   "cell_type": "code",
   "execution_count": 24,
   "id": "fe315649",
   "metadata": {},
   "outputs": [
    {
     "data": {
      "text/plain": [
       "tensor([0.18257419+0.j, 0.36514837+0.j, 0.54772256+0.j, 0.73029674+0.j], requires_grad=True)"
      ]
     },
     "execution_count": 24,
     "metadata": {},
     "output_type": "execute_result"
    }
   ],
   "source": [
    "dev.state"
   ]
  },
  {
   "cell_type": "code",
   "execution_count": 27,
   "id": "8e983cae",
   "metadata": {},
   "outputs": [
    {
     "data": {
      "text/plain": [
       "tensor(-0.22580645, requires_grad=True)"
      ]
     },
     "execution_count": 27,
     "metadata": {},
     "output_type": "execute_result"
    }
   ],
   "source": [
    "import pennylane as qml\n",
    "\n",
    "dev = qml.device('default.qubit', wires=3)\n",
    "@qml.qnode(dev)\n",
    "def circuit(f=None):\n",
    "    qml.AmplitudeEmbedding(features=f, wires=range(3), normalize=True)\n",
    "    return qml.expval(qml.PauliZ(0))\n",
    "\n",
    "circuit(f=[15, 15, 15, 15,20,20,20,15])"
   ]
  },
  {
   "cell_type": "code",
   "execution_count": 28,
   "id": "20d27c4a",
   "metadata": {},
   "outputs": [
    {
     "data": {
      "text/plain": [
       "tensor([0.31108551+0.j, 0.31108551+0.j, 0.31108551+0.j, 0.31108551+0.j,\n",
       "        0.41478068+0.j, 0.41478068+0.j, 0.41478068+0.j, 0.31108551+0.j], requires_grad=True)"
      ]
     },
     "execution_count": 28,
     "metadata": {},
     "output_type": "execute_result"
    }
   ],
   "source": [
    "dev.state"
   ]
  },
  {
   "cell_type": "markdown",
   "id": "393ac0ee",
   "metadata": {},
   "source": [
    "# Padding\n",
    "\n",
    "## If the dimension of the feature vector is smaller than the number of amplitudes, one can automatically pad it with a constant for the missing dimensions using the pad_with option:"
   ]
  },
  {
   "cell_type": "markdown",
   "id": "a99f1203",
   "metadata": {},
   "source": [
    "### For example, if we have a feature vector f with 3 elements and want to use 2 qubits to represent the quantum state, you would need to pad the feature vector to have 4 elements, as 2^2 = 4. If you set pad_with=0, the feature vector would be automatically padded to [f[0], f[1], f[2], 0]"
   ]
  },
  {
   "cell_type": "code",
   "execution_count": 29,
   "id": "c7cdd163",
   "metadata": {},
   "outputs": [
    {
     "data": {
      "text/plain": [
       "tensor(1., requires_grad=True)"
      ]
     },
     "execution_count": 29,
     "metadata": {},
     "output_type": "execute_result"
    }
   ],
   "source": [
    "from math import sqrt\n",
    "import pennylane as qml\n",
    "\n",
    "dev = qml.device('default.qubit', wires=2)\n",
    "\n",
    "@qml.qnode(dev)\n",
    "def circuit(f=None):\n",
    "    qml.AmplitudeEmbedding(features=f, wires=range(2), pad_with=0.)\n",
    "    return qml.expval(qml.PauliZ(0))\n",
    "\n",
    "circuit(f=[1/sqrt(2), 1/sqrt(2)])"
   ]
  },
  {
   "cell_type": "code",
   "execution_count": 30,
   "id": "f9615b19",
   "metadata": {},
   "outputs": [
    {
     "data": {
      "text/plain": [
       "tensor([0.70710678+0.j, 0.70710678+0.j, 0.        +0.j, 0.        +0.j], requires_grad=True)"
      ]
     },
     "execution_count": 30,
     "metadata": {},
     "output_type": "execute_result"
    }
   ],
   "source": [
    "dev.state"
   ]
  },
  {
   "cell_type": "code",
   "execution_count": 43,
   "id": "ff294149",
   "metadata": {},
   "outputs": [
    {
     "data": {
      "text/plain": [
       "tensor(1., requires_grad=True)"
      ]
     },
     "execution_count": 43,
     "metadata": {},
     "output_type": "execute_result"
    }
   ],
   "source": [
    "from math import sqrt\n",
    "import pennylane as qml\n",
    "\n",
    "dev = qml.device('default.qubit', wires=3)\n",
    "\n",
    "@qml.qnode(dev)\n",
    "def circuit(f=None):\n",
    "    qml.AmplitudeEmbedding(features=f, wires=range(3),normalize=True, pad_with=0.)\n",
    "    return qml.expval(qml.PauliZ(0))\n",
    "\n",
    "circuit(f=[10,20,30])"
   ]
  },
  {
   "cell_type": "code",
   "execution_count": 44,
   "id": "9bc1e287",
   "metadata": {},
   "outputs": [
    {
     "data": {
      "text/plain": [
       "tensor([0.26726124+0.j, 0.53452248+0.j, 0.80178373+0.j, 0.        +0.j,\n",
       "        0.        +0.j, 0.        +0.j, 0.        +0.j, 0.        +0.j], requires_grad=True)"
      ]
     },
     "execution_count": 44,
     "metadata": {},
     "output_type": "execute_result"
    }
   ],
   "source": [
    "dev.state"
   ]
  },
  {
   "cell_type": "code",
   "execution_count": null,
   "id": "d63297a2",
   "metadata": {},
   "outputs": [],
   "source": []
  }
 ],
 "metadata": {
  "kernelspec": {
   "display_name": "Python 3 (ipykernel)",
   "language": "python",
   "name": "python3"
  },
  "language_info": {
   "codemirror_mode": {
    "name": "ipython",
    "version": 3
   },
   "file_extension": ".py",
   "mimetype": "text/x-python",
   "name": "python",
   "nbconvert_exporter": "python",
   "pygments_lexer": "ipython3",
   "version": "3.9.13"
  }
 },
 "nbformat": 4,
 "nbformat_minor": 5
}
