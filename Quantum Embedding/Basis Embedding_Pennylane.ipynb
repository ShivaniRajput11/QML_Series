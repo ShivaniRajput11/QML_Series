{
 "cells": [
  {
   "cell_type": "markdown",
   "id": "e653113c",
   "metadata": {},
   "source": [
    "## In basis embedding, the data has to be in form of a binary string to get embedded. The idea behind basis embedding is using a computational basis. Approximating a scalar value to its binary form and then transforming it to a quantum state.\n",
    "\n",
    "## The algorithm involves — The first step is to approximate a number by a binary bit string and the second step is encoding it by a computational basis state. for instance: x=1001 is represented by the 4-qubit quantum state |1001⟩ "
   ]
  },
  {
   "cell_type": "code",
   "execution_count": 1,
   "id": "253ec9ea",
   "metadata": {},
   "outputs": [],
   "source": [
    "from math import sqrt\n",
    "import pennylane as qml\n",
    "\n",
    "\n",
    "dev = qml.device('default.qubit', wires=3)\n",
    "\n",
    "@qml.qnode(dev)\n",
    "def circuit(feature_vector):\n",
    "    qml.BasisEmbedding(features=feature_vector, wires=range(3))\n",
    "    return qml.state()\n",
    "\n",
    "X = [1,1,1]"
   ]
  },
  {
   "cell_type": "code",
   "execution_count": 2,
   "id": "451fb58a",
   "metadata": {},
   "outputs": [
    {
     "name": "stdout",
     "output_type": "stream",
     "text": [
      "0: ──X─┤  State\n",
      "1: ──X─┤  State\n",
      "2: ──X─┤  State\n"
     ]
    }
   ],
   "source": [
    "print(qml.draw(circuit, expansion_strategy=\"device\")(X))"
   ]
  },
  {
   "cell_type": "code",
   "execution_count": 3,
   "id": "da59a1ec",
   "metadata": {},
   "outputs": [
    {
     "name": "stdout",
     "output_type": "stream",
     "text": [
      "[0.+0.j 0.+0.j 0.+0.j 0.+0.j 0.+0.j 0.+0.j 0.+0.j 1.+0.j]\n"
     ]
    }
   ],
   "source": [
    "print(circuit(X))"
   ]
  },
  {
   "cell_type": "code",
   "execution_count": 4,
   "id": "da71a2d4",
   "metadata": {},
   "outputs": [],
   "source": [
    "from math import sqrt\n",
    "import pennylane as qml\n",
    "\n",
    "\n",
    "dev = qml.device('default.qubit', wires=4)\n",
    "\n",
    "@qml.qnode(dev)\n",
    "def circuit(feature_vector):\n",
    "    qml.BasisEmbedding(features=feature_vector, wires=range(4))\n",
    "    return qml.state()\n",
    "\n",
    "X = [0,1,0,1]"
   ]
  },
  {
   "cell_type": "code",
   "execution_count": 5,
   "id": "3a70fa19",
   "metadata": {},
   "outputs": [
    {
     "name": "stdout",
     "output_type": "stream",
     "text": [
      "1: ──X─┤  State\n",
      "3: ──X─┤  State\n"
     ]
    }
   ],
   "source": [
    "print(qml.draw(circuit, expansion_strategy=\"device\")(X))"
   ]
  },
  {
   "cell_type": "code",
   "execution_count": null,
   "id": "d0172017",
   "metadata": {},
   "outputs": [],
   "source": []
  }
 ],
 "metadata": {
  "kernelspec": {
   "display_name": "Python 3 (ipykernel)",
   "language": "python",
   "name": "python3"
  },
  "language_info": {
   "codemirror_mode": {
    "name": "ipython",
    "version": 3
   },
   "file_extension": ".py",
   "mimetype": "text/x-python",
   "name": "python",
   "nbconvert_exporter": "python",
   "pygments_lexer": "ipython3",
   "version": "3.9.13"
  }
 },
 "nbformat": 4,
 "nbformat_minor": 5
}
