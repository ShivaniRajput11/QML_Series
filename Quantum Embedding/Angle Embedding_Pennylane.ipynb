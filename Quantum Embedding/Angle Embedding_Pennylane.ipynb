{
 "cells": [
  {
   "cell_type": "markdown",
   "id": "142f038d",
   "metadata": {},
   "source": [
    "### The angle embedding is performed by applying rotations on the x-axis or y-axis using quantum gates along with the values that have to be encoded. If we wanna apply angle embedding on a dataset the number of rotations will be the same as the number of features in the dataset. the n-dimensional sample would take n-number of qubits to generate the set of quantum states."
   ]
  },
  {
   "cell_type": "code",
   "execution_count": 4,
   "id": "16c9c973",
   "metadata": {},
   "outputs": [],
   "source": [
    "from math import sqrt\n",
    "import pennylane as qml\n",
    "dev = qml.device('default.qubit', wires=3)\n",
    "\n",
    "@qml.qnode(dev)\n",
    "def circuit(feature_vector):\n",
    "    qml.AngleEmbedding(features=feature_vector, wires=range(3), rotation='Z')\n",
    "    qml.Hadamard(0)\n",
    "    qml.Hadamard(1)\n",
    "    qml.Hadamard(2)\n",
    "    return qml.probs(wires=range(3))\n",
    "\n",
    "X = [1,2,3]"
   ]
  },
  {
   "cell_type": "code",
   "execution_count": 6,
   "id": "17078d1b",
   "metadata": {},
   "outputs": [
    {
     "name": "stdout",
     "output_type": "stream",
     "text": [
      "0: ──RZ(1.00)──H─┤ ╭Probs\n",
      "1: ──RZ(2.00)──H─┤ ├Probs\n",
      "2: ──RZ(3.00)──H─┤ ╰Probs\n"
     ]
    }
   ],
   "source": [
    "print(qml.draw(circuit, expansion_strategy=\"device\")(X))"
   ]
  },
  {
   "cell_type": "code",
   "execution_count": 15,
   "id": "ff1bc49f",
   "metadata": {},
   "outputs": [],
   "source": [
    "from math import sqrt\n",
    "import pennylane as qml\n",
    "dev = qml.device('default.qubit', wires=3)\n",
    "\n",
    "@qml.qnode(dev)\n",
    "def circuit(feature_vector):\n",
    "    qml.AngleEmbedding(features=feature_vector, wires=range(3), rotation='Z')\n",
    "    qml.Hadamard(0)\n",
    "    qml.Hadamard(1)\n",
    "    qml.Hadamard(2)\n",
    "    return qml.probs(wires=range(3))\n",
    "\n",
    "X = [1/2,2,3/sqrt(2)]"
   ]
  },
  {
   "cell_type": "code",
   "execution_count": 16,
   "id": "aa15eb32",
   "metadata": {},
   "outputs": [
    {
     "name": "stdout",
     "output_type": "stream",
     "text": [
      "0: ──RZ(0.50)──H─┤ ╭Probs\n",
      "1: ──RZ(2.00)──H─┤ ├Probs\n",
      "2: ──RZ(2.12)──H─┤ ╰Probs\n"
     ]
    }
   ],
   "source": [
    "print(qml.draw(circuit, expansion_strategy=\"device\")(X))"
   ]
  },
  {
   "cell_type": "code",
   "execution_count": 25,
   "id": "0599602b",
   "metadata": {},
   "outputs": [],
   "source": [
    "from math import sqrt\n",
    "import pennylane as qml\n",
    "dev = qml.device('default.qubit', wires=4)\n",
    "\n",
    "@qml.qnode(dev)\n",
    "def circuit(feature_vector):\n",
    "    qml.AngleEmbedding(features=feature_vector, wires=range(4), rotation='Z')\n",
    "    qml.Hadamard(0)\n",
    "    qml.Hadamard(1)\n",
    "    qml.Hadamard(2)\n",
    "    return qml.probs(wires=range(4))\n",
    "\n",
    "X = [1/2,2,3/sqrt(2),1]"
   ]
  },
  {
   "cell_type": "code",
   "execution_count": 26,
   "id": "1934f01c",
   "metadata": {},
   "outputs": [
    {
     "name": "stdout",
     "output_type": "stream",
     "text": [
      "0: ──RZ(0.50)──H─┤ ╭Probs\n",
      "1: ──RZ(2.00)──H─┤ ├Probs\n",
      "2: ──RZ(2.12)──H─┤ ├Probs\n",
      "3: ──RZ(1.00)────┤ ╰Probs\n"
     ]
    }
   ],
   "source": [
    "print(qml.draw(circuit, expansion_strategy=\"device\")(X))"
   ]
  },
  {
   "cell_type": "code",
   "execution_count": 51,
   "id": "99c6845e",
   "metadata": {},
   "outputs": [],
   "source": [
    "from math import sqrt\n",
    "import pennylane as qml\n",
    "dev = qml.device('default.qubit', wires=6)\n",
    "\n",
    "@qml.qnode(dev)\n",
    "def circuit(feature_vector):\n",
    "    qml.AngleEmbedding(features=feature_vector, wires=range(6), rotation='X')\n",
    "    qml.Hadamard(0)\n",
    "    qml.Hadamard(4)\n",
    "    qml.Hadamard(5)\n",
    "    qml.RX(0.5, wires=2)\n",
    "    qml.RZ(0.7, wires=0)\n",
    "    \n",
    "\n",
    "    \n",
    "    return qml.probs(wires=range(6))\n",
    "\n",
    "X = [1/2,2,3/sqrt(2),1]"
   ]
  },
  {
   "cell_type": "code",
   "execution_count": 52,
   "id": "c6602d9b",
   "metadata": {},
   "outputs": [
    {
     "name": "stdout",
     "output_type": "stream",
     "text": [
      "0: ──RX(0.50)──H─────────RZ(0.70)─┤ ╭Probs\n",
      "1: ──RX(2.00)─────────────────────┤ ├Probs\n",
      "2: ──RX(2.12)──RX(0.50)───────────┤ ├Probs\n",
      "3: ──RX(1.00)─────────────────────┤ ├Probs\n",
      "4: ──H────────────────────────────┤ ├Probs\n",
      "5: ──H────────────────────────────┤ ╰Probs\n"
     ]
    }
   ],
   "source": [
    "print(qml.draw(circuit, expansion_strategy=\"device\")(X))"
   ]
  },
  {
   "cell_type": "code",
   "execution_count": null,
   "id": "01ebdec6",
   "metadata": {},
   "outputs": [],
   "source": []
  }
 ],
 "metadata": {
  "kernelspec": {
   "display_name": "Python 3 (ipykernel)",
   "language": "python",
   "name": "python3"
  },
  "language_info": {
   "codemirror_mode": {
    "name": "ipython",
    "version": 3
   },
   "file_extension": ".py",
   "mimetype": "text/x-python",
   "name": "python",
   "nbconvert_exporter": "python",
   "pygments_lexer": "ipython3",
   "version": "3.9.13"
  }
 },
 "nbformat": 4,
 "nbformat_minor": 5
}
